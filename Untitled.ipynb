{
 "cells": [
  {
   "cell_type": "code",
   "execution_count": 6,
   "id": "99fd3ab5",
   "metadata": {},
   "outputs": [],
   "source": [
    "s='parrot'\n",
    "l=[]\n",
    "for j in s:\n",
    "    if j not in l:\n",
    "        l.append(j)"
   ]
  },
  {
   "cell_type": "code",
   "execution_count": 7,
   "id": "07e0ef8a",
   "metadata": {},
   "outputs": [
    {
     "data": {
      "text/plain": [
       "1"
      ]
     },
     "execution_count": 7,
     "metadata": {},
     "output_type": "execute_result"
    }
   ],
   "source": []
  },
  {
   "cell_type": "code",
   "execution_count": 8,
   "id": "cc8fb5b9",
   "metadata": {},
   "outputs": [],
   "source": [
    "s='parrot'\n",
    "l=[]\n",
    "for j in s:\n",
    "    if j not in l:\n",
    "        l.append(j)\n",
    "    "
   ]
  },
  {
   "cell_type": "code",
   "execution_count": 9,
   "id": "f51916f9",
   "metadata": {},
   "outputs": [
    {
     "data": {
      "text/plain": [
       "['p', 'a', 'r', 'o', 't']"
      ]
     },
     "execution_count": 9,
     "metadata": {},
     "output_type": "execute_result"
    }
   ],
   "source": [
    "l"
   ]
  },
  {
   "cell_type": "code",
   "execution_count": 13,
   "id": "ac804b24",
   "metadata": {},
   "outputs": [
    {
     "name": "stdout",
     "output_type": "stream",
     "text": [
      "1 is prime\n",
      "2 is prime\n",
      "3 is prime\n",
      "4 is not prime\n",
      "5 is prime\n",
      "6 is not prime\n",
      "7 is prime\n",
      "8 is not prime\n",
      "9 is not prime\n",
      "10 is not prime\n",
      "11 is prime\n",
      "12 is not prime\n",
      "13 is prime\n",
      "14 is not prime\n",
      "15 is not prime\n",
      "16 is not prime\n",
      "17 is prime\n",
      "18 is not prime\n",
      "19 is prime\n",
      "20 is not prime\n",
      "21 is not prime\n",
      "22 is not prime\n",
      "23 is prime\n",
      "24 is not prime\n",
      "25 is not prime\n",
      "26 is not prime\n",
      "27 is not prime\n",
      "28 is not prime\n",
      "29 is prime\n",
      "30 is not prime\n",
      "31 is prime\n",
      "32 is not prime\n",
      "33 is not prime\n",
      "34 is not prime\n",
      "35 is not prime\n",
      "36 is not prime\n",
      "37 is prime\n",
      "38 is not prime\n",
      "39 is not prime\n",
      "40 is not prime\n",
      "41 is prime\n",
      "42 is not prime\n",
      "43 is prime\n",
      "44 is not prime\n",
      "45 is not prime\n",
      "46 is not prime\n",
      "47 is prime\n",
      "48 is not prime\n",
      "49 is not prime\n",
      "50 is not prime\n",
      "51 is not prime\n",
      "52 is not prime\n",
      "53 is prime\n",
      "54 is not prime\n",
      "55 is not prime\n",
      "56 is not prime\n",
      "57 is not prime\n",
      "58 is not prime\n",
      "59 is prime\n",
      "60 is not prime\n",
      "61 is prime\n",
      "62 is not prime\n",
      "63 is not prime\n",
      "64 is not prime\n",
      "65 is not prime\n",
      "66 is not prime\n",
      "67 is prime\n",
      "68 is not prime\n",
      "69 is not prime\n",
      "70 is not prime\n",
      "71 is prime\n",
      "72 is not prime\n",
      "73 is prime\n",
      "74 is not prime\n",
      "75 is not prime\n",
      "76 is not prime\n",
      "77 is not prime\n",
      "78 is not prime\n",
      "79 is prime\n",
      "80 is not prime\n",
      "81 is not prime\n",
      "82 is not prime\n",
      "83 is prime\n",
      "84 is not prime\n",
      "85 is not prime\n",
      "86 is not prime\n",
      "87 is not prime\n",
      "88 is not prime\n",
      "89 is prime\n",
      "90 is not prime\n",
      "91 is not prime\n",
      "92 is not prime\n",
      "93 is not prime\n",
      "94 is not prime\n",
      "95 is not prime\n",
      "96 is not prime\n",
      "97 is prime\n",
      "98 is not prime\n",
      "99 is not prime\n",
      "100 is not prime\n"
     ]
    }
   ],
   "source": [
    "a=1 \n",
    "b=100\n",
    "for i in range(a,b+1):\n",
    "    b=True\n",
    "    for k in range(2,i):\n",
    "        if i%k==0:\n",
    "            b=False\n",
    "    if b:\n",
    "        print(i,'is prime')\n",
    "    else:\n",
    "        print(i,'is not prime')"
   ]
  },
  {
   "cell_type": "code",
   "execution_count": null,
   "id": "25221d0f",
   "metadata": {},
   "outputs": [],
   "source": []
  },
  {
   "cell_type": "code",
   "execution_count": null,
   "id": "05323159",
   "metadata": {},
   "outputs": [],
   "source": []
  },
  {
   "cell_type": "code",
   "execution_count": null,
   "id": "ebc90431",
   "metadata": {},
   "outputs": [],
   "source": []
  },
  {
   "cell_type": "code",
   "execution_count": 19,
   "id": "2f31cc9c",
   "metadata": {},
   "outputs": [
    {
     "ename": "IndentationError",
     "evalue": "expected an indented block (1356094070.py, line 2)",
     "output_type": "error",
     "traceback": [
      "\u001b[1;36m  Input \u001b[1;32mIn [19]\u001b[1;36m\u001b[0m\n\u001b[1;33m    return a+b\u001b[0m\n\u001b[1;37m    ^\u001b[0m\n\u001b[1;31mIndentationError\u001b[0m\u001b[1;31m:\u001b[0m expected an indented block\n"
     ]
    }
   ],
   "source": [
    "def sumn(a,b):\n",
    "return a+b"
   ]
  },
  {
   "cell_type": "code",
   "execution_count": 17,
   "id": "c8cda5dc",
   "metadata": {},
   "outputs": [
    {
     "ename": "IndentationError",
     "evalue": "expected an indented block (125476774.py, line 2)",
     "output_type": "error",
     "traceback": [
      "\u001b[1;36m  Input \u001b[1;32mIn [17]\u001b[1;36m\u001b[0m\n\u001b[1;33m    return a+b;\u001b[0m\n\u001b[1;37m    ^\u001b[0m\n\u001b[1;31mIndentationError\u001b[0m\u001b[1;31m:\u001b[0m expected an indented block\n"
     ]
    }
   ],
   "source": [
    "def avg(q,w,sumh):\n",
    "    return sumh(q,w)/2\n",
    "avg(2,4,sumn)"
   ]
  },
  {
   "cell_type": "code",
   "execution_count": 22,
   "id": "88d5d5a9",
   "metadata": {},
   "outputs": [],
   "source": [
    "def sumn(a,b):\n",
    "    return a+b"
   ]
  },
  {
   "cell_type": "code",
   "execution_count": 23,
   "id": "45692db1",
   "metadata": {},
   "outputs": [
    {
     "data": {
      "text/plain": [
       "3.0"
      ]
     },
     "execution_count": 23,
     "metadata": {},
     "output_type": "execute_result"
    }
   ],
   "source": [
    "\n",
    "def avg(q,w,sumh):\n",
    "    return sumh(q,w)/2\n",
    "avg(2,4,sumn)"
   ]
  },
  {
   "cell_type": "code",
   "execution_count": 8,
   "id": "673014a3",
   "metadata": {},
   "outputs": [
    {
     "name": "stdout",
     "output_type": "stream",
     "text": [
      "4\n",
      "5\n"
     ]
    }
   ],
   "source": [
    "a=int(input())\n",
    "b=int(input())\n",
    "class hello:\n",
    "    def add():\n",
    "        print(a+b)\n",
    "    def sub():\n",
    "        print(a-b)\n",
    "    def divide():\n",
    "        print(a//b)\n",
    "    def multiply():\n",
    "        print(a*b)\n",
    "obj= hello"
   ]
  },
  {
   "cell_type": "markdown",
   "id": "c1971ae6",
   "metadata": {},
   "source": []
  },
  {
   "cell_type": "code",
   "execution_count": null,
   "id": "f4718591",
   "metadata": {},
   "outputs": [],
   "source": []
  },
  {
   "cell_type": "code",
   "execution_count": 18,
   "id": "bbe91e00",
   "metadata": {},
   "outputs": [
    {
     "name": "stdout",
     "output_type": "stream",
     "text": [
      "23\n",
      "4\n",
      "Enter operator+\n"
     ]
    }
   ],
   "source": [
    "\n",
    "class hello:\n",
    "    def __init__(self,a,b):\n",
    "        self.a=a\n",
    "        self.b=b\n",
    "        \n",
    "    def add(self):\n",
    "        return self.a+self.b\n",
    "    def sub(self):\n",
    "        return self.a-self.b\n",
    "    def divide(self):\n",
    "        return self.a/self.b\n",
    "    def multiply(self):\n",
    "        return self.a*self.b\n",
    "obj= hello(a,b)\n",
    "a=int(input())\n",
    "b=int(input())\n",
    "oper=input('Enter operator')\n",
    "\n",
    "if oper == '+':\n",
    "    obj.add()\n",
    "elif oper == '-':\n",
    "    obj.sub()\n",
    "elif oper == '/':\n",
    "    obj.divide()\n",
    "elif oper == '*':\n",
    "    obj.multiply()\n",
    "else:\n",
    "    print('Enter a correct operator')"
   ]
  },
  {
   "cell_type": "code",
   "execution_count": 21,
   "id": "35539e78",
   "metadata": {},
   "outputs": [
    {
     "ename": "AttributeError",
     "evalue": "'super' object has no attribute 'sum'",
     "output_type": "error",
     "traceback": [
      "\u001b[1;31m---------------------------------------------------------------------------\u001b[0m",
      "\u001b[1;31mAttributeError\u001b[0m                            Traceback (most recent call last)",
      "Input \u001b[1;32mIn [21]\u001b[0m, in \u001b[0;36m<cell line: 9>\u001b[1;34m()\u001b[0m\n\u001b[0;32m      7\u001b[0m         \u001b[38;5;28;01mreturn\u001b[39;00m \u001b[38;5;28msuper\u001b[39m()\u001b[38;5;241m.\u001b[39msum()\u001b[38;5;241m/\u001b[39m\u001b[38;5;241m2\u001b[39m\n\u001b[0;32m      8\u001b[0m o \u001b[38;5;241m=\u001b[39m cls1(\u001b[38;5;241m4\u001b[39m,\u001b[38;5;241m6\u001b[39m)\n\u001b[1;32m----> 9\u001b[0m \u001b[43mo\u001b[49m\u001b[38;5;241;43m.\u001b[39;49m\u001b[43maverage\u001b[49m\u001b[43m(\u001b[49m\u001b[43m)\u001b[49m\n",
      "Input \u001b[1;32mIn [21]\u001b[0m, in \u001b[0;36mcls1.average\u001b[1;34m(self)\u001b[0m\n\u001b[0;32m      6\u001b[0m \u001b[38;5;28;01mdef\u001b[39;00m \u001b[38;5;21maverage\u001b[39m(\u001b[38;5;28mself\u001b[39m):\n\u001b[1;32m----> 7\u001b[0m     \u001b[38;5;28;01mreturn\u001b[39;00m \u001b[38;5;28;43msuper\u001b[39;49m\u001b[43m(\u001b[49m\u001b[43m)\u001b[49m\u001b[38;5;241;43m.\u001b[39;49m\u001b[43msum\u001b[49m()\u001b[38;5;241m/\u001b[39m\u001b[38;5;241m2\u001b[39m\n",
      "\u001b[1;31mAttributeError\u001b[0m: 'super' object has no attribute 'sum'"
     ]
    }
   ],
   "source": [
    "class cls1(hello):\n",
    "    def __init__(self,a,b):\n",
    "        self.a=a\n",
    "        self.b=b\n",
    "        super().__init__(a,b)\n",
    "    def average(self):\n",
    "        return super().sum()/2\n",
    "o = cls1(4,6)\n",
    "o.average()"
   ]
  },
  {
   "cell_type": "code",
   "execution_count": null,
   "id": "8e5b7c33",
   "metadata": {},
   "outputs": [],
   "source": [
    "#create a list class which involve the functionality of:\n",
    "# length of list, even element in a list, odd element in a list, print all string values from the list."
   ]
  },
  {
   "cell_type": "code",
   "execution_count": 22,
   "id": "fc4623c1",
   "metadata": {},
   "outputs": [],
   "source": [
    "class list():\n",
    "    def __init__(self):\n",
    "         self.lst = []\n",
    "    def __len__(self):\n",
    "         return len(self.lst)"
   ]
  },
  {
   "cell_type": "code",
   "execution_count": null,
   "id": "bcb03377",
   "metadata": {},
   "outputs": [],
   "source": []
  }
 ],
 "metadata": {
  "kernelspec": {
   "display_name": "Python 3 (ipykernel)",
   "language": "python",
   "name": "python3"
  },
  "language_info": {
   "codemirror_mode": {
    "name": "ipython",
    "version": 3
   },
   "file_extension": ".py",
   "mimetype": "text/x-python",
   "name": "python",
   "nbconvert_exporter": "python",
   "pygments_lexer": "ipython3",
   "version": "3.9.12"
  }
 },
 "nbformat": 4,
 "nbformat_minor": 5
}
